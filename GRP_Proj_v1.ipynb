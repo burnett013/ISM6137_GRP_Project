{
 "cells": [
  {
   "cell_type": "code",
   "execution_count": 17,
   "metadata": {},
   "outputs": [],
   "source": [
    "import pandas as pd                     # Data manipulation\n",
    "import numpy as np                      # Numeric computations\n",
    "import statsmodels.api as sm            # Regression modeling\n",
    "import statsmodels.formula.api as smf   # Regression modeling\n",
    "import seaborn as sns                   # Visualizations\n",
    "import matplotlib.pyplot as plt         # Visualizations\n",
    "import plotly.express as px             # Visualizations"
   ]
  },
  {
   "cell_type": "markdown",
   "metadata": {},
   "source": [
    "### Clean 'stores.xlsx'"
   ]
  },
  {
   "cell_type": "code",
   "execution_count": 18,
   "metadata": {},
   "outputs": [],
   "source": [
    "# Import the stores.xlsx file\n",
    "df_stores = pd.read_excel('stores.xlsx')"
   ]
  },
  {
   "cell_type": "code",
   "execution_count": 19,
   "metadata": {},
   "outputs": [],
   "source": [
    "# Convert column headers to lower case\n",
    "df_stores.columns = df_stores.columns.str.lower()\n",
    "# Convert column data to lower case\n",
    "df_stores = df_stores.map(lambda x: x.lower() if isinstance(x, str) else x)"
   ]
  },
  {
   "cell_type": "markdown",
   "metadata": {},
   "source": [
    "### Clean 'products.xlsx'"
   ]
  },
  {
   "cell_type": "code",
   "execution_count": 20,
   "metadata": {},
   "outputs": [],
   "source": [
    "# Import the products.xlsx file\n",
    "df_products = pd.read_excel('products.xlsx')"
   ]
  },
  {
   "cell_type": "code",
   "execution_count": 21,
   "metadata": {},
   "outputs": [],
   "source": [
    "# Convert column headers to lower case\n",
    "df_products.columns = df_products.columns.str.lower()\n",
    "# Convert column data to lower case\n",
    "df_products = df_products.map(lambda x: x.lower() if isinstance(x, str) else x)"
   ]
  },
  {
   "cell_type": "markdown",
   "metadata": {},
   "source": [
    "### Clean 'transactions.xlsx'"
   ]
  },
  {
   "cell_type": "code",
   "execution_count": 22,
   "metadata": {},
   "outputs": [],
   "source": [
    "# Import the transactions.xlsx file\n",
    "df_transactions = pd.read_excel('transactions.xlsx')"
   ]
  },
  {
   "cell_type": "code",
   "execution_count": 23,
   "metadata": {},
   "outputs": [],
   "source": [
    "# Convert column headers to lower case\n",
    "df_transactions.columns = df_transactions.columns.str.lower()\n",
    "# Convert column data to lower case\n",
    "df_transactions = df_transactions.map(lambda x: x.lower() if isinstance(x, str) else x)"
   ]
  },
  {
   "cell_type": "markdown",
   "metadata": {},
   "source": [
    "### Remove oral hygiene products"
   ]
  },
  {
   "cell_type": "code",
   "execution_count": 24,
   "metadata": {},
   "outputs": [],
   "source": [
    "# Create a clean copy of the dataframe to avoid chained assignment warnings\n",
    "df_prod_cln = df_products[df_products['category'] != 'oral hygiene products'].copy()"
   ]
  },
  {
   "cell_type": "code",
   "execution_count": 25,
   "metadata": {},
   "outputs": [],
   "source": [
    "# Remove 'oral hygiene products' based on UPCs in df_prod_cln (the products df only without the oral hygiene products)\n",
    "keep_upcs = df_prod_cln['upc'].unique()\n",
    "\n",
    "# Only keep the UPCs in df_prod_cln\n",
    "df_trans_cln = df_transactions[df_transactions['upc'].isin(keep_upcs)]\n"
   ]
  },
  {
   "cell_type": "markdown",
   "metadata": {},
   "source": [
    "### Standardize Product Size"
   ]
  },
  {
   "cell_type": "code",
   "execution_count": 26,
   "metadata": {},
   "outputs": [
    {
     "name": "stdout",
     "output_type": "stream",
     "text": [
      "  product_size  size_value size_unit  size_in_ml\n",
      "0        15 oz       15.00        oz  443.602500\n",
      "1        15 oz       15.00        oz  443.602500\n",
      "2        15 oz       15.00        oz  443.602500\n",
      "6     12.25 oz       12.25        oz  362.275375\n",
      "7        20 oz       20.00        oz  591.470000\n"
     ]
    }
   ],
   "source": [
    "# Function to extract numeric value and unit\n",
    "def extract_size_details(size):\n",
    "    if isinstance(size, str):  # Ensure it's a string before processing\n",
    "        parts = size.strip().split(\" \")  # Remove extra spaces\n",
    "        if len(parts) >= 2:  # Ensure there's at least a value and unit\n",
    "            try:\n",
    "                value = float(parts[0])  # Convert first part to float\n",
    "                unit = parts[1].lower()  # Standardize unit (lowercase)\n",
    "                return pd.Series([value, unit])\n",
    "            except ValueError:\n",
    "                return pd.Series([None, None])  # Handle unexpected formats\n",
    "    return pd.Series([None, None])\n",
    "\n",
    "\n",
    "\n",
    "# Apply function to extract size and unit safely\n",
    "df_prod_cln[['size_value', 'size_unit']] = df_prod_cln['product_size'].apply(extract_size_details)\n",
    "\n",
    "# Function to convert all sizes to ML where applicable\n",
    "def convert_to_ml(row):\n",
    "    if pd.isna(row['size_value']) or pd.isna(row['size_unit']):\n",
    "        return None  # Handle missing values\n",
    "    unit = row['size_unit']\n",
    "    value = row['size_value']\n",
    "    \n",
    "    if unit == 'ml':\n",
    "        return value  # Already in ML\n",
    "    elif unit == 'oz':\n",
    "        return value * 29.5735  # Convert OZ to ML\n",
    "    elif unit == 'lt':\n",
    "        return value * 1000  # Convert LT to ML\n",
    "    else:\n",
    "        return None  # Keep CT and unknown units unchanged\n",
    "\n",
    "# Apply function safely\n",
    "df_prod_cln['size_in_ml'] = df_prod_cln.apply(convert_to_ml, axis=1)\n",
    "\n",
    "# Debug: Check conversion results\n",
    "print(df_prod_cln[['product_size', 'size_value', 'size_unit', 'size_in_ml']].head())"
   ]
  },
  {
   "cell_type": "code",
   "execution_count": 27,
   "metadata": {},
   "outputs": [
    {
     "name": "stdout",
     "output_type": "stream",
     "text": [
      "Unique size_value count: 25\n",
      "Unique size_unit count: 1\n",
      "Unique size_in_ml count: 25\n"
     ]
    }
   ],
   "source": [
    "# Count unique values in each column\n",
    "unique_size_value = df_prod_cln['size_value'].nunique(dropna=True)\n",
    "unique_size_unit = df_prod_cln['size_unit'].nunique(dropna=True)\n",
    "unique_size_in_ml = df_prod_cln['size_in_ml'].nunique(dropna=True)\n",
    "\n",
    "# Display results\n",
    "print(f\"Unique size_value count: {unique_size_value}\")\n",
    "print(f\"Unique size_unit count: {unique_size_unit}\")\n",
    "print(f\"Unique size_in_ml count: {unique_size_in_ml}\")"
   ]
  },
  {
   "cell_type": "code",
   "execution_count": 28,
   "metadata": {},
   "outputs": [
    {
     "name": "stdout",
     "output_type": "stream",
     "text": [
      "          upc               description   manufacturer     category  \\\n",
      "0  1111009477    pl mini twist pretzels  private label   bag snacks   \n",
      "1  1111009497         pl pretzel sticks  private label   bag snacks   \n",
      "2  1111009507         pl twist pretzels  private label   bag snacks   \n",
      "6  1111085319  pl honey nut toastd oats  private label  cold cereal   \n",
      "7  1111085345            pl raisin bran  private label  cold cereal   \n",
      "\n",
      "        sub_category  size_value size_unit  size_in_ml  \n",
      "0           pretzels       15.00        oz  443.602500  \n",
      "1           pretzels       15.00        oz  443.602500  \n",
      "2           pretzels       15.00        oz  443.602500  \n",
      "6  all family cereal       12.25        oz  362.275375  \n",
      "7       adult cereal       20.00        oz  591.470000  \n"
     ]
    },
    {
     "data": {
      "text/html": [
       "<div>\n",
       "<style scoped>\n",
       "    .dataframe tbody tr th:only-of-type {\n",
       "        vertical-align: middle;\n",
       "    }\n",
       "\n",
       "    .dataframe tbody tr th {\n",
       "        vertical-align: top;\n",
       "    }\n",
       "\n",
       "    .dataframe thead th {\n",
       "        text-align: right;\n",
       "    }\n",
       "</style>\n",
       "<table border=\"1\" class=\"dataframe\">\n",
       "  <thead>\n",
       "    <tr style=\"text-align: right;\">\n",
       "      <th></th>\n",
       "      <th>upc</th>\n",
       "      <th>description</th>\n",
       "      <th>manufacturer</th>\n",
       "      <th>category</th>\n",
       "      <th>sub_category</th>\n",
       "      <th>size_value</th>\n",
       "      <th>size_unit</th>\n",
       "      <th>size_in_ml</th>\n",
       "    </tr>\n",
       "  </thead>\n",
       "  <tbody>\n",
       "    <tr>\n",
       "      <th>0</th>\n",
       "      <td>1111009477</td>\n",
       "      <td>pl mini twist pretzels</td>\n",
       "      <td>private label</td>\n",
       "      <td>bag snacks</td>\n",
       "      <td>pretzels</td>\n",
       "      <td>15.00</td>\n",
       "      <td>oz</td>\n",
       "      <td>443.602500</td>\n",
       "    </tr>\n",
       "    <tr>\n",
       "      <th>1</th>\n",
       "      <td>1111009497</td>\n",
       "      <td>pl pretzel sticks</td>\n",
       "      <td>private label</td>\n",
       "      <td>bag snacks</td>\n",
       "      <td>pretzels</td>\n",
       "      <td>15.00</td>\n",
       "      <td>oz</td>\n",
       "      <td>443.602500</td>\n",
       "    </tr>\n",
       "    <tr>\n",
       "      <th>2</th>\n",
       "      <td>1111009507</td>\n",
       "      <td>pl twist pretzels</td>\n",
       "      <td>private label</td>\n",
       "      <td>bag snacks</td>\n",
       "      <td>pretzels</td>\n",
       "      <td>15.00</td>\n",
       "      <td>oz</td>\n",
       "      <td>443.602500</td>\n",
       "    </tr>\n",
       "    <tr>\n",
       "      <th>6</th>\n",
       "      <td>1111085319</td>\n",
       "      <td>pl honey nut toastd oats</td>\n",
       "      <td>private label</td>\n",
       "      <td>cold cereal</td>\n",
       "      <td>all family cereal</td>\n",
       "      <td>12.25</td>\n",
       "      <td>oz</td>\n",
       "      <td>362.275375</td>\n",
       "    </tr>\n",
       "    <tr>\n",
       "      <th>7</th>\n",
       "      <td>1111085345</td>\n",
       "      <td>pl raisin bran</td>\n",
       "      <td>private label</td>\n",
       "      <td>cold cereal</td>\n",
       "      <td>adult cereal</td>\n",
       "      <td>20.00</td>\n",
       "      <td>oz</td>\n",
       "      <td>591.470000</td>\n",
       "    </tr>\n",
       "  </tbody>\n",
       "</table>\n",
       "</div>"
      ],
      "text/plain": [
       "          upc               description   manufacturer     category  \\\n",
       "0  1111009477    pl mini twist pretzels  private label   bag snacks   \n",
       "1  1111009497         pl pretzel sticks  private label   bag snacks   \n",
       "2  1111009507         pl twist pretzels  private label   bag snacks   \n",
       "6  1111085319  pl honey nut toastd oats  private label  cold cereal   \n",
       "7  1111085345            pl raisin bran  private label  cold cereal   \n",
       "\n",
       "        sub_category  size_value size_unit  size_in_ml  \n",
       "0           pretzels       15.00        oz  443.602500  \n",
       "1           pretzels       15.00        oz  443.602500  \n",
       "2           pretzels       15.00        oz  443.602500  \n",
       "6  all family cereal       12.25        oz  362.275375  \n",
       "7       adult cereal       20.00        oz  591.470000  "
      ]
     },
     "execution_count": 28,
     "metadata": {},
     "output_type": "execute_result"
    }
   ],
   "source": [
    "# Drop the original product_size column\n",
    "df_prod_cln.drop(columns=['product_size'], inplace=True)\n",
    "\n",
    "# Debug: Check if column is removed\n",
    "print(df_prod_cln.head())  # Ensure product_size is gone\n",
    "\n",
    "df_prod_cln.head()"
   ]
  },
  {
   "cell_type": "code",
   "execution_count": 33,
   "metadata": {},
   "outputs": [
    {
     "name": "stdout",
     "output_type": "stream",
     "text": [
      "Missing values in df_stores:\n",
      "store_id              0\n",
      "store_name            0\n",
      "city                  0\n",
      "state                 0\n",
      "msa                   0\n",
      "segment               0\n",
      "size                  0\n",
      "avg_weekly_baskets    0\n",
      "dtype: int64\n",
      "------------------------\n",
      "\n",
      "Missing values in df_prod_cln:\n",
      "upc             0\n",
      "description     0\n",
      "manufacturer    0\n",
      "category        0\n",
      "sub_category    0\n",
      "size_value      0\n",
      "size_unit       0\n",
      "size_in_ml      0\n",
      "dtype: int64\n",
      "------------------------\n",
      "\n",
      "Missing values in df_trans_cln:\n",
      "week_end_date      0\n",
      "store_num          0\n",
      "upc                0\n",
      "units              0\n",
      "visits             0\n",
      "hhs                0\n",
      "spend              0\n",
      "price             10\n",
      "base_price       173\n",
      "feature            0\n",
      "display            0\n",
      "tpr_only           0\n",
      "dtype: int64\n"
     ]
    }
   ],
   "source": [
    "# Check missing values in all dataframes\n",
    "print(\"Missing values in df_stores:\")\n",
    "print(df_stores.isnull().sum())\n",
    "print('------------------------')\n",
    "print(\"\\nMissing values in df_prod_cln:\")\n",
    "print(df_prod_cln.isnull().sum())\n",
    "print('------------------------')\n",
    "print(\"\\nMissing values in df_trans_cln:\")\n",
    "print(df_trans_cln.isnull().sum())"
   ]
  },
  {
   "cell_type": "code",
   "execution_count": 32,
   "metadata": {},
   "outputs": [
    {
     "data": {
      "text/plain": [
       "Index(['store_id', 'store_name', 'city', 'state', 'msa', 'segment', 'size',\n",
       "       'avg_weekly_baskets'],\n",
       "      dtype='object')"
      ]
     },
     "execution_count": 32,
     "metadata": {},
     "output_type": "execute_result"
    }
   ],
   "source": [
    "# Drop 'parking' from df_stores (35% of df_stores have parking values.)\n",
    "df_stores.drop(columns=['parking'], inplace=True)\n",
    "df_stores.columns"
   ]
  },
  {
   "cell_type": "code",
   "execution_count": 36,
   "metadata": {},
   "outputs": [
    {
     "name": "stdout",
     "output_type": "stream",
     "text": [
      "Excel file 'cleaned_data.xlsx' has been created successfully!\n"
     ]
    }
   ],
   "source": [
    "# Define the Excel file name\n",
    "# output_filename = \"cleaned_data.xlsx\"\n",
    "\n",
    "# # Write the DataFrames to separate sheets in one Excel file\n",
    "# with pd.ExcelWriter(output_filename, engine='auto') as writer:\n",
    "#     df_stores.to_excel(writer, sheet_name=\"Stores\", index=False)\n",
    "#     df_prod_cln.to_excel(writer, sheet_name=\"Products\", index=False)\n",
    "#     df_trans_cln.to_excel(writer, sheet_name=\"Transactions\", index=False)\n",
    "\n",
    "# print(f\"Excel file '{output_filename}' has been created successfully!\")"
   ]
  }
 ],
 "metadata": {
  "kernelspec": {
   "display_name": "Python 3",
   "language": "python",
   "name": "python3"
  },
  "language_info": {
   "codemirror_mode": {
    "name": "ipython",
    "version": 3
   },
   "file_extension": ".py",
   "mimetype": "text/x-python",
   "name": "python",
   "nbconvert_exporter": "python",
   "pygments_lexer": "ipython3",
   "version": "3.12.4"
  }
 },
 "nbformat": 4,
 "nbformat_minor": 2
}
